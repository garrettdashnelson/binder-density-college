{
 "cells": [
  {
   "cell_type": "code",
   "execution_count": 1,
   "metadata": {},
   "outputs": [],
   "source": [
    "import pandas as pd\n",
    "from IPython.core.display import display, HTML"
   ]
  },
  {
   "cell_type": "markdown",
   "metadata": {},
   "source": [
    "We'll pull population density for counties from [this Census ESRI API](https://covid19.census.gov/datasets/21843f238cbb46b08615fc53e19e0daf_1)."
   ]
  },
  {
   "cell_type": "code",
   "execution_count": 2,
   "metadata": {},
   "outputs": [],
   "source": [
    "county_pop_df = pd.read_csv('https://opendata.arcgis.com/datasets/21843f238cbb46b08615fc53e19e0daf_1.csv'\n",
    "                ,usecols=['GEOID','NAME','State','B01001_001E','B01001_calc_PopDensity']\n",
    "                ,dtype={'GEOID':str})"
   ]
  },
  {
   "cell_type": "markdown",
   "metadata": {},
   "source": [
    "1. Filter out Puerto Rico _(but support Puerto Rican self-determination!)_,\n",
    "1. sort the records by their calculated population density,\n",
    "1. and then add a cumulative sum column."
   ]
  },
  {
   "cell_type": "code",
   "execution_count": 3,
   "metadata": {},
   "outputs": [],
   "source": [
    "county_pop_df = county_pop_df[county_pop_df['State']!='Puerto Rico']\n",
    "county_pop_df.sort_values(by='B01001_calc_PopDensity', ascending=False, inplace=True)\n",
    "county_pop_df['cumcount']=county_pop_df['B01001_001E'].cumsum()"
   ]
  },
  {
   "cell_type": "code",
   "execution_count": 4,
   "metadata": {},
   "outputs": [
    {
     "data": {
      "text/html": [
       "<div>\n",
       "<style scoped>\n",
       "    .dataframe tbody tr th:only-of-type {\n",
       "        vertical-align: middle;\n",
       "    }\n",
       "\n",
       "    .dataframe tbody tr th {\n",
       "        vertical-align: top;\n",
       "    }\n",
       "\n",
       "    .dataframe thead th {\n",
       "        text-align: right;\n",
       "    }\n",
       "</style>\n",
       "<table border=\"1\" class=\"dataframe\">\n",
       "  <thead>\n",
       "    <tr style=\"text-align: right;\">\n",
       "      <th></th>\n",
       "      <th>GEOID</th>\n",
       "      <th>NAME</th>\n",
       "      <th>State</th>\n",
       "      <th>B01001_001E</th>\n",
       "      <th>B01001_calc_PopDensity</th>\n",
       "      <th>cumcount</th>\n",
       "    </tr>\n",
       "  </thead>\n",
       "  <tbody>\n",
       "    <tr>\n",
       "      <th>1858</th>\n",
       "      <td>36061</td>\n",
       "      <td>New York County</td>\n",
       "      <td>New York</td>\n",
       "      <td>1632480</td>\n",
       "      <td>27819.804801</td>\n",
       "      <td>1632480</td>\n",
       "    </tr>\n",
       "    <tr>\n",
       "      <th>1851</th>\n",
       "      <td>36047</td>\n",
       "      <td>Kings County</td>\n",
       "      <td>New York</td>\n",
       "      <td>2600747</td>\n",
       "      <td>14475.025439</td>\n",
       "      <td>4233227</td>\n",
       "    </tr>\n",
       "    <tr>\n",
       "      <th>1830</th>\n",
       "      <td>36005</td>\n",
       "      <td>Bronx County</td>\n",
       "      <td>New York</td>\n",
       "      <td>1437872</td>\n",
       "      <td>13202.515305</td>\n",
       "      <td>5671099</td>\n",
       "    </tr>\n",
       "    <tr>\n",
       "      <th>1868</th>\n",
       "      <td>36081</td>\n",
       "      <td>Queens County</td>\n",
       "      <td>New York</td>\n",
       "      <td>2298513</td>\n",
       "      <td>8158.437153</td>\n",
       "      <td>7969612</td>\n",
       "    </tr>\n",
       "    <tr>\n",
       "      <th>223</th>\n",
       "      <td>06075</td>\n",
       "      <td>San Francisco County</td>\n",
       "      <td>California</td>\n",
       "      <td>870044</td>\n",
       "      <td>7168.190471</td>\n",
       "      <td>8839656</td>\n",
       "    </tr>\n",
       "  </tbody>\n",
       "</table>\n",
       "</div>"
      ],
      "text/plain": [
       "      GEOID                  NAME       State  B01001_001E  \\\n",
       "1858  36061       New York County    New York      1632480   \n",
       "1851  36047          Kings County    New York      2600747   \n",
       "1830  36005          Bronx County    New York      1437872   \n",
       "1868  36081         Queens County    New York      2298513   \n",
       "223   06075  San Francisco County  California       870044   \n",
       "\n",
       "      B01001_calc_PopDensity  cumcount  \n",
       "1858            27819.804801   1632480  \n",
       "1851            14475.025439   4233227  \n",
       "1830            13202.515305   5671099  \n",
       "1868             8158.437153   7969612  \n",
       "223              7168.190471   8839656  "
      ]
     },
     "execution_count": 4,
     "metadata": {},
     "output_type": "execute_result"
    }
   ],
   "source": [
    "county_pop_df.head()"
   ]
  },
  {
   "cell_type": "markdown",
   "metadata": {},
   "source": [
    "It's surprisingly maddening to find a good source for county-level election data. We're going to use [this one](https://github.com/tonmcg/US_County_Level_Election_Results_08-20/), though we need to repair the FIPS codes so they're 5-character strings."
   ]
  },
  {
   "cell_type": "code",
   "execution_count": 5,
   "metadata": {},
   "outputs": [
    {
     "data": {
      "text/html": [
       "<div>\n",
       "<style scoped>\n",
       "    .dataframe tbody tr th:only-of-type {\n",
       "        vertical-align: middle;\n",
       "    }\n",
       "\n",
       "    .dataframe tbody tr th {\n",
       "        vertical-align: top;\n",
       "    }\n",
       "\n",
       "    .dataframe thead th {\n",
       "        text-align: right;\n",
       "    }\n",
       "</style>\n",
       "<table border=\"1\" class=\"dataframe\">\n",
       "  <thead>\n",
       "    <tr style=\"text-align: right;\">\n",
       "      <th></th>\n",
       "      <th>votes_dem</th>\n",
       "      <th>votes_gop</th>\n",
       "      <th>total_votes</th>\n",
       "      <th>state_abbr</th>\n",
       "      <th>county_name</th>\n",
       "      <th>combined_fips</th>\n",
       "      <th>fips</th>\n",
       "    </tr>\n",
       "  </thead>\n",
       "  <tbody>\n",
       "    <tr>\n",
       "      <th>0</th>\n",
       "      <td>93003</td>\n",
       "      <td>130413</td>\n",
       "      <td>246588</td>\n",
       "      <td>AK</td>\n",
       "      <td>Alaska</td>\n",
       "      <td>2013</td>\n",
       "      <td>02013</td>\n",
       "    </tr>\n",
       "    <tr>\n",
       "      <th>1</th>\n",
       "      <td>93003</td>\n",
       "      <td>130413</td>\n",
       "      <td>246588</td>\n",
       "      <td>AK</td>\n",
       "      <td>Alaska</td>\n",
       "      <td>2016</td>\n",
       "      <td>02016</td>\n",
       "    </tr>\n",
       "    <tr>\n",
       "      <th>2</th>\n",
       "      <td>93003</td>\n",
       "      <td>130413</td>\n",
       "      <td>246588</td>\n",
       "      <td>AK</td>\n",
       "      <td>Alaska</td>\n",
       "      <td>2020</td>\n",
       "      <td>02020</td>\n",
       "    </tr>\n",
       "    <tr>\n",
       "      <th>3</th>\n",
       "      <td>93003</td>\n",
       "      <td>130413</td>\n",
       "      <td>246588</td>\n",
       "      <td>AK</td>\n",
       "      <td>Alaska</td>\n",
       "      <td>2050</td>\n",
       "      <td>02050</td>\n",
       "    </tr>\n",
       "    <tr>\n",
       "      <th>4</th>\n",
       "      <td>93003</td>\n",
       "      <td>130413</td>\n",
       "      <td>246588</td>\n",
       "      <td>AK</td>\n",
       "      <td>Alaska</td>\n",
       "      <td>2060</td>\n",
       "      <td>02060</td>\n",
       "    </tr>\n",
       "  </tbody>\n",
       "</table>\n",
       "</div>"
      ],
      "text/plain": [
       "   votes_dem  votes_gop  total_votes state_abbr county_name combined_fips  \\\n",
       "0      93003     130413       246588         AK      Alaska          2013   \n",
       "1      93003     130413       246588         AK      Alaska          2016   \n",
       "2      93003     130413       246588         AK      Alaska          2020   \n",
       "3      93003     130413       246588         AK      Alaska          2050   \n",
       "4      93003     130413       246588         AK      Alaska          2060   \n",
       "\n",
       "    fips  \n",
       "0  02013  \n",
       "1  02016  \n",
       "2  02020  \n",
       "3  02050  \n",
       "4  02060  "
      ]
     },
     "execution_count": 5,
     "metadata": {},
     "output_type": "execute_result"
    }
   ],
   "source": [
    "election_results_df = pd.read_csv('https://raw.githubusercontent.com/tonmcg/US_County_Level_Election_Results_08-20/master/2016_US_County_Level_Presidential_Results.csv'\n",
    "                                ,usecols=['votes_dem','votes_gop','total_votes','state_abbr','county_name','combined_fips']\n",
    "                                  ,dtype={'combined_fips':str,'votes_dem':'int64','votes_gop':'int64','total_votes':'int64'})\n",
    "election_results_df['fips'] = election_results_df['combined_fips'].apply(lambda x: '0' + x if len(x)==4 else x)\n",
    "election_results_df.head()"
   ]
  },
  {
   "cell_type": "markdown",
   "metadata": {},
   "source": [
    "There are two Census FIPS that mismatch between the tables; we'll coerce them to matchin values."
   ]
  },
  {
   "cell_type": "code",
   "execution_count": 6,
   "metadata": {},
   "outputs": [],
   "source": [
    "election_results_df.loc[election_results_df['fips']=='46113','fips'] = '46102' #Oglala Lakota County\n",
    "election_results_df.loc[election_results_df['fips']=='02270','fips'] = '02158' #Kusilvak Census Area"
   ]
  },
  {
   "cell_type": "markdown",
   "metadata": {},
   "source": [
    "Join them and see if anything went wrong. There's one county that's still mismatched, but, with only 75 people, it isn't going to affect any of our election results. Out of exhaustion, we'll leave it be."
   ]
  },
  {
   "cell_type": "code",
   "execution_count": 7,
   "metadata": {},
   "outputs": [
    {
     "data": {
      "text/html": [
       "<div>\n",
       "<style scoped>\n",
       "    .dataframe tbody tr th:only-of-type {\n",
       "        vertical-align: middle;\n",
       "    }\n",
       "\n",
       "    .dataframe tbody tr th {\n",
       "        vertical-align: top;\n",
       "    }\n",
       "\n",
       "    .dataframe thead th {\n",
       "        text-align: right;\n",
       "    }\n",
       "</style>\n",
       "<table border=\"1\" class=\"dataframe\">\n",
       "  <thead>\n",
       "    <tr style=\"text-align: right;\">\n",
       "      <th></th>\n",
       "      <th>NAME</th>\n",
       "      <th>State</th>\n",
       "      <th>B01001_001E</th>\n",
       "      <th>B01001_calc_PopDensity</th>\n",
       "      <th>cumcount</th>\n",
       "      <th>votes_dem</th>\n",
       "      <th>votes_gop</th>\n",
       "      <th>total_votes</th>\n",
       "      <th>state_abbr</th>\n",
       "      <th>county_name</th>\n",
       "      <th>combined_fips</th>\n",
       "    </tr>\n",
       "    <tr>\n",
       "      <th>GEOID</th>\n",
       "      <th></th>\n",
       "      <th></th>\n",
       "      <th></th>\n",
       "      <th></th>\n",
       "      <th></th>\n",
       "      <th></th>\n",
       "      <th></th>\n",
       "      <th></th>\n",
       "      <th></th>\n",
       "      <th></th>\n",
       "      <th></th>\n",
       "    </tr>\n",
       "  </thead>\n",
       "  <tbody>\n",
       "    <tr>\n",
       "      <th>15005</th>\n",
       "      <td>Kalawao County</td>\n",
       "      <td>Hawaii</td>\n",
       "      <td>75</td>\n",
       "      <td>2.414868</td>\n",
       "      <td>320317763</td>\n",
       "      <td>NaN</td>\n",
       "      <td>NaN</td>\n",
       "      <td>NaN</td>\n",
       "      <td>NaN</td>\n",
       "      <td>NaN</td>\n",
       "      <td>NaN</td>\n",
       "    </tr>\n",
       "  </tbody>\n",
       "</table>\n",
       "</div>"
      ],
      "text/plain": [
       "                 NAME   State  B01001_001E  B01001_calc_PopDensity   cumcount  \\\n",
       "GEOID                                                                           \n",
       "15005  Kalawao County  Hawaii           75                2.414868  320317763   \n",
       "\n",
       "       votes_dem  votes_gop  total_votes state_abbr county_name combined_fips  \n",
       "GEOID                                                                          \n",
       "15005        NaN        NaN          NaN        NaN         NaN           NaN  "
      ]
     },
     "execution_count": 7,
     "metadata": {},
     "output_type": "execute_result"
    }
   ],
   "source": [
    "joined = county_pop_df.set_index('GEOID').join(election_results_df.set_index('fips'))\n",
    "joined[pd.isna(joined['votes_dem'])]"
   ]
  },
  {
   "cell_type": "markdown",
   "metadata": {},
   "source": [
    "Define a function that will run an election for an arbitrary number of district. To do so, we break the density-sorted dataframe by using `pd.cut` on the cumulative population field. Then we write a nice little HTML table to output the results."
   ]
  },
  {
   "cell_type": "code",
   "execution_count": 8,
   "metadata": {},
   "outputs": [],
   "source": [
    "def run_election(number_districts):\n",
    "    joined['electorate'] = pd.cut(joined['cumcount'], bins=number_districts, labels=range(1,number_districts+1))\n",
    "    results_table = joined.groupby(by='electorate').sum()\n",
    "    results_table['pctdem'] = results_table['votes_dem']/results_table['total_votes']\n",
    "    results_table['pctgop'] = results_table['votes_gop']/results_table['total_votes']\n",
    "    display(HTML('<h1>Election with {} districts</h1>'.format(number_districts)))\n",
    "    \n",
    "    html_table = ''\n",
    "    html_table += '<table><tr><th>District</th><th>Total Population</th><th>Densest County</th><th>Least Dense County</th><th>Dem %</th><th>Rep %</th><th>Winner</th></tr>'\n",
    "    for i,r in results_table.iterrows():\n",
    "        most_dense = joined[joined['electorate']==i].iloc[0]\n",
    "        least_dense = joined[joined['electorate']==i].iloc[-1]\n",
    "        most_dense_printable = '{}, {}'.format(most_dense['NAME'], most_dense['State'])\n",
    "        least_dense_printable = '{}, {}'.format(least_dense['NAME'], least_dense['State'])\n",
    "        \n",
    "        winner = 'D' if r['pctdem'] > r['pctgop'] else 'R'\n",
    "\n",
    "        html_table += '<tr><td>{}</td><td>{}</td><td>{}</td><td>{}</td><td>{}</td><td>{}</td><td>{}</td></tr>'.format(i, f\"{int(r['B01001_001E']):,}\", most_dense_printable, least_dense_printable, round(r['pctdem']*100,2),round(r['pctgop']*100,2), winner)\n",
    "        \n",
    "    html_table +='</table>'\n",
    "    display(HTML(html_table))"
   ]
  },
  {
   "cell_type": "markdown",
   "metadata": {},
   "source": [
    "Run the election with 11 districts ..."
   ]
  },
  {
   "cell_type": "code",
   "execution_count": 9,
   "metadata": {},
   "outputs": [
    {
     "data": {
      "text/html": [
       "<h1>Election with 11 districts</h1>"
      ],
      "text/plain": [
       "<IPython.core.display.HTML object>"
      ]
     },
     "metadata": {},
     "output_type": "display_data"
    },
    {
     "data": {
      "text/html": [
       "<table><tr><th>District</th><th>Total Population</th><th>Densest County</th><th>Least Dense County</th><th>Dem %</th><th>Rep %</th><th>Winner</th></tr><tr><td>1</td><td>30,773,474</td><td>New York County, New York</td><td>Winchester city, Virginia</td><td>70.84</td><td>25.38</td><td>D</td></tr><tr><td>2</td><td>29,255,155</td><td>Dallas County, Texas</td><td>Tarrant County, Texas</td><td>62.85</td><td>32.64</td><td>D</td></tr><tr><td>3</td><td>29,020,695</td><td>Orleans Parish, Louisiana</td><td>Contra Costa County, California</td><td>62.24</td><td>33.22</td><td>D</td></tr><tr><td>4</td><td>29,291,928</td><td>Sacramento County, California</td><td>Davis County, Utah</td><td>56.04</td><td>38.66</td><td>D</td></tr><tr><td>5</td><td>28,872,991</td><td>Monroe County, New York</td><td>Dakota County, Minnesota</td><td>50.33</td><td>44.35</td><td>D</td></tr><tr><td>6</td><td>29,423,618</td><td>Clark County, Washington</td><td>Orange County, New York</td><td>46.32</td><td>48.81</td><td>R</td></tr><tr><td>7</td><td>29,293,887</td><td>Kalamazoo County, Michigan</td><td>Spalding County, Georgia</td><td>43.71</td><td>50.89</td><td>R</td></tr><tr><td>8</td><td>29,351,626</td><td>Shawnee County, Kansas</td><td>Jefferson County, Tennessee</td><td>39.26</td><td>55.36</td><td>R</td></tr><tr><td>9</td><td>29,140,053</td><td>Jackson County, Georgia</td><td>Dickson County, Tennessee</td><td>36.62</td><td>58.44</td><td>R</td></tr><tr><td>10</td><td>29,255,578</td><td>Bowie County, Texas</td><td>Nottoway County, Virginia</td><td>32.86</td><td>62.2</td><td>R</td></tr><tr><td>11</td><td>29,224,025</td><td>Cherokee County, Texas</td><td>Yukon-Koyukuk Census Area, Alaska</td><td>33.48</td><td>59.72</td><td>R</td></tr></table>"
      ],
      "text/plain": [
       "<IPython.core.display.HTML object>"
      ]
     },
     "metadata": {},
     "output_type": "display_data"
    }
   ],
   "source": [
    "run_election(11)"
   ]
  },
  {
   "cell_type": "markdown",
   "metadata": {},
   "source": [
    "How about 9?"
   ]
  },
  {
   "cell_type": "code",
   "execution_count": 10,
   "metadata": {},
   "outputs": [
    {
     "data": {
      "text/html": [
       "<h1>Election with 9 districts</h1>"
      ],
      "text/plain": [
       "<IPython.core.display.HTML object>"
      ]
     },
     "metadata": {},
     "output_type": "display_data"
    },
    {
     "data": {
      "text/html": [
       "<table><tr><th>District</th><th>Total Population</th><th>Densest County</th><th>Least Dense County</th><th>Dem %</th><th>Rep %</th><th>Winner</th></tr><tr><td>1</td><td>37,299,101</td><td>New York County, New York</td><td>DuPage County, Illinois</td><td>69.36</td><td>26.7</td><td>D</td></tr><tr><td>2</td><td>34,210,307</td><td>DeKalb County, Georgia</td><td>Clayton County, Georgia</td><td>63.11</td><td>32.31</td><td>D</td></tr><tr><td>3</td><td>36,929,333</td><td>Middlesex County, Massachusetts</td><td>Hillsborough County, Florida</td><td>59.26</td><td>35.89</td><td>D</td></tr><tr><td>4</td><td>35,956,241</td><td>Monmouth County, New Jersey</td><td>Vanderburgh County, Indiana</td><td>51.63</td><td>43.23</td><td>D</td></tr><tr><td>5</td><td>32,504,452</td><td>Hampden County, Massachusetts</td><td>Kalamazoo County, Michigan</td><td>46.64</td><td>48.25</td><td>R</td></tr><tr><td>6</td><td>38,893,609</td><td>Maricopa County, Arizona</td><td>Saratoga County, New York</td><td>42.79</td><td>51.48</td><td>R</td></tr><tr><td>7</td><td>35,685,254</td><td>Hinds County, Mississippi</td><td>Moore County, North Carolina</td><td>37.47</td><td>57.77</td><td>R</td></tr><tr><td>8</td><td>35,677,509</td><td>Lapeer County, Michigan</td><td>Allen County, Kentucky</td><td>34.34</td><td>60.65</td><td>R</td></tr><tr><td>9</td><td>35,747,224</td><td>Bonneville County, Idaho</td><td>Yukon-Koyukuk Census Area, Alaska</td><td>33.46</td><td>59.97</td><td>R</td></tr></table>"
      ],
      "text/plain": [
       "<IPython.core.display.HTML object>"
      ]
     },
     "metadata": {},
     "output_type": "display_data"
    }
   ],
   "source": [
    "run_election(9)"
   ]
  },
  {
   "cell_type": "markdown",
   "metadata": {},
   "source": [
    "With 17?"
   ]
  },
  {
   "cell_type": "code",
   "execution_count": 11,
   "metadata": {},
   "outputs": [
    {
     "data": {
      "text/html": [
       "<h1>Election with 17 districts</h1>"
      ],
      "text/plain": [
       "<IPython.core.display.HTML object>"
      ]
     },
     "metadata": {},
     "output_type": "display_data"
    },
    {
     "data": {
      "text/html": [
       "<table><tr><th>District</th><th>Total Population</th><th>Densest County</th><th>Least Dense County</th><th>Dem %</th><th>Rep %</th><th>Winner</th></tr><tr><td>1</td><td>20,084,946</td><td>New York County, New York</td><td>Cook County, Illinois</td><td>78.83</td><td>17.9</td><td>D</td></tr><tr><td>2</td><td>19,239,594</td><td>Union County, New Jersey</td><td>Fredericksburg city, Virginia</td><td>60.91</td><td>34.62</td><td>D</td></tr><tr><td>3</td><td>18,684,112</td><td>Passaic County, New Jersey</td><td>Colonial Heights city, Virginia</td><td>63.99</td><td>31.35</td><td>D</td></tr><tr><td>4</td><td>18,614,150</td><td>Tarrant County, Texas</td><td>Radford city, Virginia</td><td>63.41</td><td>31.88</td><td>D</td></tr><tr><td>5</td><td>18,562,096</td><td>Macomb County, Michigan</td><td>Salt Lake County, Utah</td><td>57.21</td><td>37.4</td><td>D</td></tr><tr><td>6</td><td>19,226,969</td><td>Santa Clara County, California</td><td>Hartford County, Connecticut</td><td>57.15</td><td>38.61</td><td>D</td></tr><tr><td>7</td><td>19,387,526</td><td>Travis County, Texas</td><td>Erie County, New York</td><td>50.33</td><td>44.5</td><td>D</td></tr><tr><td>8</td><td>18,888,412</td><td>Galveston County, Texas</td><td>Chatham County, Georgia</td><td>49.77</td><td>44.9</td><td>D</td></tr><tr><td>9</td><td>18,836,123</td><td>Hamilton County, Tennessee</td><td>Manatee County, Florida</td><td>46.97</td><td>47.75</td><td>R</td></tr><tr><td>10</td><td>18,990,427</td><td>Marin County, California</td><td>Douglas County, Colorado</td><td>44.67</td><td>49.78</td><td>R</td></tr><tr><td>11</td><td>18,936,579</td><td>Winnebago County, Wisconsin</td><td>Hampshire County, Massachusetts</td><td>42.36</td><td>52.46</td><td>R</td></tr><tr><td>12</td><td>18,869,503</td><td>Benton County, Arkansas</td><td>Sangamon County, Illinois</td><td>39.8</td><td>54.72</td><td>R</td></tr><tr><td>13</td><td>18,979,897</td><td>Windham County, Connecticut</td><td>Albemarle County, Virginia</td><td>35.99</td><td>59.3</td><td>R</td></tr><tr><td>14</td><td>18,883,361</td><td>Cass County, Missouri</td><td>Stokes County, North Carolina</td><td>36.74</td><td>58.04</td><td>R</td></tr><tr><td>15</td><td>18,908,564</td><td>Pike County, Pennsylvania</td><td>Cherokee County, Oklahoma</td><td>33.37</td><td>61.7</td><td>R</td></tr><tr><td>16</td><td>18,909,925</td><td>Coshocton County, Ohio</td><td>Buena Vista County, Iowa</td><td>32.27</td><td>62.89</td><td>R</td></tr><tr><td>17</td><td>18,900,846</td><td>Breckinridge County, Kentucky</td><td>Yukon-Koyukuk Census Area, Alaska</td><td>33.69</td><td>58.97</td><td>R</td></tr></table>"
      ],
      "text/plain": [
       "<IPython.core.display.HTML object>"
      ]
     },
     "metadata": {},
     "output_type": "display_data"
    }
   ],
   "source": [
    "run_election(17)"
   ]
  },
  {
   "cell_type": "code",
   "execution_count": 12,
   "metadata": {},
   "outputs": [
    {
     "data": {
      "text/html": [
       "<h1>Election with 21 districts</h1>"
      ],
      "text/plain": [
       "<IPython.core.display.HTML object>"
      ]
     },
     "metadata": {},
     "output_type": "display_data"
    },
    {
     "data": {
      "text/html": [
       "<table><tr><th>District</th><th>Total Population</th><th>Densest County</th><th>Least Dense County</th><th>Dem %</th><th>Rep %</th><th>Winner</th></tr><tr><td>1</td><td>14,861,227</td><td>New York County, New York</td><td>Essex County, New Jersey</td><td>80.64</td><td>16.47</td><td>D</td></tr><tr><td>2</td><td>15,912,247</td><td>Cook County, Illinois</td><td>Winchester city, Virginia</td><td>63.17</td><td>32.35</td><td>D</td></tr><tr><td>3</td><td>14,800,056</td><td>Dallas County, Texas</td><td>Newport News city, Virginia</td><td>61.62</td><td>34.28</td><td>D</td></tr><tr><td>4</td><td>16,320,929</td><td>Los Angeles County, California</td><td>Westchester County, New York</td><td>64.97</td><td>30.27</td><td>D</td></tr><tr><td>5</td><td>15,597,047</td><td>Hennepin County, Minnesota</td><td>Macomb County, Michigan</td><td>63.5</td><td>31.64</td><td>D</td></tr><tr><td>6</td><td>15,628,239</td><td>Norfolk County, Massachusetts</td><td>Providence County, Rhode Island</td><td>58.99</td><td>36.55</td><td>D</td></tr><tr><td>7</td><td>15,318,996</td><td>Fairfield County, Connecticut</td><td>Hillsborough County, Florida</td><td>57.05</td><td>37.61</td><td>D</td></tr><tr><td>8</td><td>15,117,251</td><td>Monmouth County, New Jersey</td><td>Clarke County, Georgia</td><td>52.52</td><td>42.3</td><td>D</td></tr><tr><td>9</td><td>15,533,076</td><td>Bucks County, Pennsylvania</td><td>Washington County, Oregon</td><td>50.7</td><td>44.46</td><td>D</td></tr><tr><td>10</td><td>15,060,023</td><td>Hamilton County, Indiana</td><td>Genesee County, Michigan</td><td>48.68</td><td>45.9</td><td>D</td></tr><tr><td>11</td><td>15,417,696</td><td>Greenville County, South Carolina</td><td>Cleveland County, Oklahoma</td><td>48.15</td><td>46.57</td><td>D</td></tr><tr><td>12</td><td>15,585,913</td><td>Sedgwick County, Kansas</td><td>Leon County, Florida</td><td>46.06</td><td>49.04</td><td>R</td></tr><tr><td>13</td><td>15,316,510</td><td>Putnam County, New York</td><td>Cumberland County, Maine</td><td>41.33</td><td>52.86</td><td>R</td></tr><tr><td>14</td><td>15,323,833</td><td>Erie County, Pennsylvania</td><td>Saratoga County, New York</td><td>40.9</td><td>53.15</td><td>R</td></tr><tr><td>15</td><td>15,186,794</td><td>Hinds County, Mississippi</td><td>Tompkins County, New York</td><td>39.57</td><td>55.79</td><td>R</td></tr><tr><td>16</td><td>15,404,525</td><td>Clackamas County, Oregon</td><td>Boone County, Indiana</td><td>36.02</td><td>59.16</td><td>R</td></tr><tr><td>17</td><td>15,316,483</td><td>Belknap County, New Hampshire</td><td>Barry County, Michigan</td><td>35.38</td><td>59.55</td><td>R</td></tr><tr><td>18</td><td>15,234,397</td><td>Fulton County, New York</td><td>Putnam County, Indiana</td><td>35.73</td><td>59.36</td><td>R</td></tr><tr><td>19</td><td>15,336,889</td><td>Santa Fe County, New Mexico</td><td>Preston County, West Virginia</td><td>32.32</td><td>62.59</td><td>R</td></tr><tr><td>20</td><td>15,320,870</td><td>Huntingdon County, Pennsylvania</td><td>Edwards County, Illinois</td><td>32.91</td><td>62.26</td><td>R</td></tr><tr><td>21</td><td>15,310,029</td><td>Franklin County, Arkansas</td><td>Yukon-Koyukuk Census Area, Alaska</td><td>33.65</td><td>58.71</td><td>R</td></tr></table>"
      ],
      "text/plain": [
       "<IPython.core.display.HTML object>"
      ]
     },
     "metadata": {},
     "output_type": "display_data"
    }
   ],
   "source": [
    "run_election(21)"
   ]
  }
 ],
 "metadata": {
  "kernelspec": {
   "display_name": "Python 3",
   "language": "python",
   "name": "python3"
  },
  "language_info": {
   "codemirror_mode": {
    "name": "ipython",
    "version": 3
   },
   "file_extension": ".py",
   "mimetype": "text/x-python",
   "name": "python",
   "nbconvert_exporter": "python",
   "pygments_lexer": "ipython3",
   "version": "3.8.5"
  }
 },
 "nbformat": 4,
 "nbformat_minor": 4
}
